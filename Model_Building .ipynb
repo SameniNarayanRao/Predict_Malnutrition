{
 "cells": [
  {
   "cell_type": "markdown",
   "metadata": {
    "id": "awxCHcrmtbTk"
   },
   "source": [
    "\n",
    "#  **Model Building End-to-End Series**"
   ]
  },
  {
   "cell_type": "markdown",
   "metadata": {
    "id": "WrUCl6HKz25L"
   },
   "source": [
    "---\n",
    "# **Table of Contents**\n",
    "---\n",
    "\n",
    "**1.** [**Introduction**](#Section2)<br>\n",
    "\n",
    "**2.** [**Problem Statement**](#Section2)<br>\n",
    "\n",
    "**3.** [**Importing Libraries**](#Section3)<br>\n",
    "\n",
    "**4.** [**Loading data using Pandas**](#Section4)<br>\n",
    "\n",
    "**5.** [**Seperating data into Train and Test sets**](#Section5)<br>\n",
    "\n",
    "**6.** [**Model Building**](#Section6)<br>\n",
    "\n",
    "**7.** [**Model Evaluation**](#Section7)<br>"
   ]
  },
  {
   "cell_type": "markdown",
   "metadata": {
    "id": "eBtABd5XZBCE"
   },
   "source": [
    "---\n",
    "<a name = Section2></a>\n",
    "# **1. Introduction**\n",
    "---"
   ]
  },
  {
   "cell_type": "markdown",
   "metadata": {
    "id": "zxbyvicpZGqi"
   },
   "source": [
    "\n",
    "- Depending on the **data type** (qualitative or quantitative) of the **target variable** (commonly referred to as the Y variable) we are either going to be building a **classification** (if Y is qualitative) or **regression** (if Y is quantitative) model. \n",
    "\n",
    "- **Machine learning algorithms** could be broadly categorised to one of **three** types:\n",
    "  - **Supervised learning** — is a machine learning task that establishes the mathematical relationship between input X and output Y variables. Such X, Y pair constitutes the labeled data that are used for model building in an effort to learn how to predict the output from the input.\n",
    "\n",
    "  - **Unsupervised learning** — is a machine learning task that makes use of only the input X variables. Such X variables are unlabeled data that the learning algorithm uses in modeling the inherent structure of the data.\n",
    "\n",
    "  - **Reinforcement learning** — is a machine learning task that decides on the next course of action and it does this by learning through trial and error in an effort to maximize the reward"
   ]
  },
  {
   "cell_type": "markdown",
   "metadata": {
    "id": "6yQR7fXw03pt"
   },
   "source": [
    "---\n",
    "<a name = Section2></a>\n",
    "# **2. Problem Statement**\n",
    "---"
   ]
  },
  {
   "cell_type": "markdown",
   "metadata": {
    "id": "nl0wpcMI0_YI"
   },
   "source": [
    "Due to the **boom** in the telecom industry with **4G technology**, it has become a pain in the neck for the company to **retain their customers**.\n"
   ]
  },
  {
   "cell_type": "markdown",
   "metadata": {
    "id": "lAzSFP4w0_Of"
   },
   "source": [
    "---\n",
    "<a name = Section3></a>\n",
    "# **3. Importing Libraries**\n",
    "---"
   ]
  },
  {
   "cell_type": "markdown",
   "metadata": {
    "id": "qysCwvG92p3z"
   },
   "source": [
    "\n",
    "### **Importing Libraries**"
   ]
  },
  {
   "cell_type": "code",
   "execution_count": 7,
   "metadata": {
    "id": "7rMJ6JpA-Qfj"
   },
   "outputs": [],
   "source": [
    "import pandas as pd\n",
    "import numpy as np\n",
    "\n",
    "from sklearn.model_selection import train_test_split\n",
    "\n",
    "import matplotlib.pyplot as plt\n",
    "\n",
    "from sklearn.model_selection import cross_val_score\n",
    "from sklearn.linear_model import LogisticRegression\n",
    "from sklearn.tree import DecisionTreeClassifier\n",
    "from sklearn.ensemble import RandomForestClassifier\n",
    "\n",
    "from sklearn.model_selection import GridSearchCV\n",
    "\n",
    "from sklearn.metrics import accuracy_score, precision_score, recall_score, confusion_matrix, classification_report"
   ]
  },
  {
   "cell_type": "markdown",
   "metadata": {
    "id": "kzFNE7kG3ucA"
   },
   "source": [
    "---\n",
    "<a name = Section4></a>\n",
    "# **4. Loading data using Pandas**\n",
    "---"
   ]
  },
  {
   "cell_type": "code",
   "execution_count": 8,
   "metadata": {
    "colab": {
     "base_uri": "https://localhost:8080/",
     "height": 196
    },
    "id": "HocBuCk5az1K",
    "outputId": "810530d8-7faa-42ac-c0b9-f3ef3330c532"
   },
   "outputs": [
    {
     "data": {
      "text/html": [
       "<div>\n",
       "<style scoped>\n",
       "    .dataframe tbody tr th:only-of-type {\n",
       "        vertical-align: middle;\n",
       "    }\n",
       "\n",
       "    .dataframe tbody tr th {\n",
       "        vertical-align: top;\n",
       "    }\n",
       "\n",
       "    .dataframe thead th {\n",
       "        text-align: right;\n",
       "    }\n",
       "</style>\n",
       "<table border=\"1\" class=\"dataframe\">\n",
       "  <thead>\n",
       "    <tr style=\"text-align: right;\">\n",
       "      <th></th>\n",
       "      <th>height</th>\n",
       "      <th>weight</th>\n",
       "      <th>status</th>\n",
       "    </tr>\n",
       "  </thead>\n",
       "  <tbody>\n",
       "    <tr>\n",
       "      <th>0</th>\n",
       "      <td>67</td>\n",
       "      <td>7000</td>\n",
       "      <td>4</td>\n",
       "    </tr>\n",
       "    <tr>\n",
       "      <th>1</th>\n",
       "      <td>65</td>\n",
       "      <td>5000</td>\n",
       "      <td>2</td>\n",
       "    </tr>\n",
       "    <tr>\n",
       "      <th>2</th>\n",
       "      <td>66</td>\n",
       "      <td>6000</td>\n",
       "      <td>2</td>\n",
       "    </tr>\n",
       "    <tr>\n",
       "      <th>3</th>\n",
       "      <td>66</td>\n",
       "      <td>6000</td>\n",
       "      <td>2</td>\n",
       "    </tr>\n",
       "    <tr>\n",
       "      <th>4</th>\n",
       "      <td>72</td>\n",
       "      <td>8000</td>\n",
       "      <td>3</td>\n",
       "    </tr>\n",
       "  </tbody>\n",
       "</table>\n",
       "</div>"
      ],
      "text/plain": [
       "   height  weight  status\n",
       "0      67    7000       4\n",
       "1      65    5000       2\n",
       "2      66    6000       2\n",
       "3      66    6000       2\n",
       "4      72    8000       3"
      ]
     },
     "execution_count": 8,
     "metadata": {},
     "output_type": "execute_result"
    }
   ],
   "source": [
    "data = pd.read_csv(\"ChildStatus1.csv\")\n",
    "data.head()"
   ]
  },
  {
   "cell_type": "code",
   "execution_count": 9,
   "metadata": {
    "colab": {
     "base_uri": "https://localhost:8080/"
    },
    "id": "37zr5KLk4_ne",
    "outputId": "9b19ad3c-5b20-4651-d21d-821641fa8f52"
   },
   "outputs": [
    {
     "name": "stdout",
     "output_type": "stream",
     "text": [
      "<class 'pandas.core.frame.DataFrame'>\n",
      "RangeIndex: 1679 entries, 0 to 1678\n",
      "Data columns (total 3 columns):\n",
      " #   Column  Non-Null Count  Dtype\n",
      "---  ------  --------------  -----\n",
      " 0   height  1679 non-null   int64\n",
      " 1   weight  1679 non-null   int64\n",
      " 2   status  1679 non-null   int64\n",
      "dtypes: int64(3)\n",
      "memory usage: 39.5 KB\n"
     ]
    }
   ],
   "source": [
    "data.info()"
   ]
  },
  {
   "cell_type": "markdown",
   "metadata": {
    "id": "4U3D6l15AIz_"
   },
   "source": [
    "---\n",
    "<a name = Section4></a>\n",
    "# **5. Separating data into train and test sets**\n",
    "---"
   ]
  },
  {
   "cell_type": "markdown",
   "metadata": {
    "id": "BiQGEzdY5CQm"
   },
   "source": [
    "<a id=section5></a>\n",
    "## 5.1 Separating Independent and Dependent variables"
   ]
  },
  {
   "cell_type": "code",
   "execution_count": 22,
   "metadata": {},
   "outputs": [],
   "source": [
    "from sklearn.preprocessing import StandardScaler\n",
    "sc = StandardScaler()\n",
    "X_train_sc = sc.fit_transform(X_train)\n",
    "X_test_sc = sc.transform(X_test)"
   ]
  },
  {
   "cell_type": "code",
   "execution_count": 23,
   "metadata": {
    "id": "X3b8zgwQ5T56"
   },
   "outputs": [],
   "source": [
    "X = data.drop('status', axis = 1)\n",
    "y = data['status']"
   ]
  },
  {
   "cell_type": "code",
   "execution_count": 24,
   "metadata": {
    "colab": {
     "base_uri": "https://localhost:8080/"
    },
    "id": "LLBaIMjwUFY8",
    "outputId": "58289275-9963-4e4b-889c-5153c3b033f4"
   },
   "outputs": [
    {
     "data": {
      "text/plain": [
       "(1679, 2)"
      ]
     },
     "execution_count": 24,
     "metadata": {},
     "output_type": "execute_result"
    }
   ],
   "source": [
    "X.shape"
   ]
  },
  {
   "cell_type": "code",
   "execution_count": 25,
   "metadata": {
    "colab": {
     "base_uri": "https://localhost:8080/"
    },
    "id": "KGHLiXT8UKu8",
    "outputId": "ab6f1433-473a-4ff8-e9a8-74a3061291b7"
   },
   "outputs": [
    {
     "data": {
      "text/plain": [
       "(1679,)"
      ]
     },
     "execution_count": 25,
     "metadata": {},
     "output_type": "execute_result"
    }
   ],
   "source": [
    "y.shape"
   ]
  },
  {
   "cell_type": "markdown",
   "metadata": {
    "id": "RkWUNJF05KiV"
   },
   "source": [
    "<a id=section5></a>\n",
    "## 5.2 Splitting data into train and test set."
   ]
  },
  {
   "cell_type": "code",
   "execution_count": 26,
   "metadata": {
    "id": "9IyowWB-5mVO"
   },
   "outputs": [],
   "source": [
    "X_train, X_test, y_train, y_test = train_test_split(X, y, test_size = 0.25, random_state = 1)"
   ]
  },
  {
   "cell_type": "markdown",
   "metadata": {
    "id": "c-ud4wPguUVJ"
   },
   "source": [
    "---\n",
    "<a name = Section6></a>\n",
    "# **6. Model Building**\n",
    "---"
   ]
  },
  {
   "cell_type": "code",
   "execution_count": 27,
   "metadata": {
    "colab": {
     "base_uri": "https://localhost:8080/"
    },
    "id": "8h3_Zpelxo99",
    "outputId": "e1efa2d5-06ae-4ca8-c365-e26195007a7d"
   },
   "outputs": [
    {
     "name": "stdout",
     "output_type": "stream",
     "text": [
      "[0.3968254  0.41269841 0.47222222 0.46031746 0.4501992 ]\n",
      "Mean 0.4384525390501485\n"
     ]
    }
   ],
   "source": [
    "#Logistic Regression\n",
    "\n",
    "log_model = LogisticRegression(max_iter=1000)\n",
    "scores = cross_val_score(estimator=log_model, X=X_train, y=y_train)\n",
    "print(scores)\n",
    "print(\"Mean\", scores.mean())"
   ]
  },
  {
   "cell_type": "code",
   "execution_count": 28,
   "metadata": {
    "colab": {
     "base_uri": "https://localhost:8080/"
    },
    "id": "bmhw5VF6SK1p",
    "outputId": "3c5b05cf-2ac2-40be-a957-0f1a2abc983d"
   },
   "outputs": [
    {
     "name": "stdout",
     "output_type": "stream",
     "text": [
      "[0.4484127  0.44444444 0.42857143 0.46031746 0.39840637]\n",
      "Mean 0.43603048124960475\n"
     ]
    }
   ],
   "source": [
    "# Decision Tree\n",
    "decision_tree = DecisionTreeClassifier(max_depth = 9, random_state = 123,\n",
    "                                       splitter = \"best\", criterion = \"gini\")\n",
    "scores = cross_val_score(estimator=decision_tree, X=X_train, y=y_train)\n",
    "print(scores)\n",
    "print(\"Mean\", scores.mean())"
   ]
  },
  {
   "cell_type": "code",
   "execution_count": 29,
   "metadata": {
    "id": "LQL52L3nW_lE"
   },
   "outputs": [],
   "source": [
    "model_rf = RandomForestClassifier()"
   ]
  },
  {
   "cell_type": "code",
   "execution_count": 30,
   "metadata": {
    "colab": {
     "base_uri": "https://localhost:8080/"
    },
    "id": "FMhKQSCBRrxl",
    "outputId": "add6c7a6-7f4f-463d-8209-edb3900d987f"
   },
   "outputs": [
    {
     "name": "stdout",
     "output_type": "stream",
     "text": [
      "[0.43253968 0.49206349 0.50793651 0.51984127 0.44223108]\n",
      "Mean 0.47892240561563276\n"
     ]
    }
   ],
   "source": [
    "# Random Forest\n",
    "model_rf = RandomForestClassifier(n_estimators=1000 , oob_score = True, n_jobs = -1,\n",
    "                                  random_state =50, max_features = \"auto\",\n",
    "                                  max_leaf_nodes = 30)\n",
    "scores = cross_val_score(estimator=model_rf, X=X_train, y=y_train)\n",
    "print(scores)\n",
    "print(\"Mean\", scores.mean())"
   ]
  },
  {
   "cell_type": "code",
   "execution_count": 31,
   "metadata": {},
   "outputs": [
    {
     "data": {
      "text/plain": [
       "0.40714285714285714"
      ]
     },
     "execution_count": 31,
     "metadata": {},
     "output_type": "execute_result"
    }
   ],
   "source": [
    "# K – Nearest Neighbor Classifier\n",
    "from sklearn.neighbors import KNeighborsClassifier\n",
    "knn_classifier = KNeighborsClassifier(n_neighbors = 5, metric = 'minkowski', p = 2)\n",
    "knn_classifier.fit(X_train, y_train)\n",
    "y_pred_knn = knn_classifier.predict(X_test)\n",
    "accuracy_score(y_test, y_pred_knn)"
   ]
  },
  {
   "cell_type": "markdown",
   "metadata": {
    "id": "9sKbH6exGkFE"
   },
   "source": [
    "### 6.1 CHECKING FEATURE IMPORTANCE"
   ]
  },
  {
   "cell_type": "code",
   "execution_count": 32,
   "metadata": {
    "colab": {
     "base_uri": "https://localhost:8080/"
    },
    "id": "RumvIJf5S_-W",
    "outputId": "2ec5686b-a316-43f6-f2fc-7f4fea54d80c"
   },
   "outputs": [
    {
     "data": {
      "text/plain": [
       "RandomForestClassifier(max_leaf_nodes=30, n_estimators=1000, n_jobs=-1,\n",
       "                       oob_score=True, random_state=50)"
      ]
     },
     "execution_count": 32,
     "metadata": {},
     "output_type": "execute_result"
    }
   ],
   "source": [
    "model_rf.fit(X_train,y_train)"
   ]
  },
  {
   "cell_type": "code",
   "execution_count": 33,
   "metadata": {
    "colab": {
     "base_uri": "https://localhost:8080/"
    },
    "id": "al6L5yVNGzvZ",
    "outputId": "e92bec5f-38e8-4993-b08d-1aa6f4582d2e"
   },
   "outputs": [
    {
     "name": "stdout",
     "output_type": "stream",
     "text": [
      "Feature importance of weight : 58.665413504896705 %\n",
      "Feature importance of height : 41.334586495103295 %\n"
     ]
    }
   ],
   "source": [
    "# Checking the feature importances of various features.\n",
    "# Sorting the importances by descending order (lowest importance at the bottom).\n",
    "for score, name in sorted(zip(model_rf.feature_importances_, X_train.columns), reverse=True):\n",
    "    print('Feature importance of', name, ':', score*100, '%')"
   ]
  },
  {
   "cell_type": "code",
   "execution_count": 34,
   "metadata": {
    "colab": {
     "base_uri": "https://localhost:8080/"
    },
    "id": "Tns3Zu2D7EjO",
    "outputId": "ab9916fe-541b-4f0c-d01a-3155b7438a0c"
   },
   "outputs": [
    {
     "data": {
      "text/plain": [
       "array([41.3345865, 58.6654135])"
      ]
     },
     "execution_count": 34,
     "metadata": {},
     "output_type": "execute_result"
    }
   ],
   "source": [
    "model_rf.feature_importances_*100"
   ]
  },
  {
   "cell_type": "code",
   "execution_count": 35,
   "metadata": {
    "colab": {
     "base_uri": "https://localhost:8080/",
     "height": 553
    },
    "id": "FFRo3JH0G6Bk",
    "outputId": "364e0eda-11d6-49eb-c661-956ffd263ba9"
   },
   "outputs": [
    {
     "data": {
      "text/plain": [
       "Text(0.5, 1.0, 'Feature Importance of each Feature')"
      ]
     },
     "execution_count": 35,
     "metadata": {},
     "output_type": "execute_result"
    },
    {
     "data": {
      "image/png": "[encoded data removed]",
      "text/plain": [
       "<Figure size 864x504 with 1 Axes>"
      ]
     },
     "metadata": {
      "needs_background": "light"
     },
     "output_type": "display_data"
    }
   ],
   "source": [
    "# Plotting the Feature Importance of each feature.\n",
    "plt.figure(figsize=(12, 7))\n",
    "plt.bar(X_train.columns, model_rf.feature_importances_*100, color='green')\n",
    "plt.xlabel('Features', fontsize=14)\n",
    "plt.ylabel('Importance', fontsize=14)\n",
    "plt.xticks(rotation=90)\n",
    "plt.title('Feature Importance of each Feature', fontsize=16)"
   ]
  },
  {
   "cell_type": "markdown",
   "metadata": {
    "id": "d8zwnTjGHPb5"
   },
   "source": [
    "### 6.2 HYPERPARAMETER TUNING"
   ]
  },
  {
   "cell_type": "code",
   "execution_count": 36,
   "metadata": {
    "id": "X2rhT3uEHJRz"
   },
   "outputs": [],
   "source": [
    "param_grid = [{'n_estimators': [100, 200, 300],\n",
    "               'max_depth': [None, 2, 3, 10, 20],\n",
    "               'max_features': ['auto', 2, 4, 8, 16, 'log2', None]}]"
   ]
  },
  {
   "cell_type": "code",
   "execution_count": 37,
   "metadata": {
    "id": "QCD-YJUTHVVN"
   },
   "outputs": [],
   "source": [
    "temp_rf = RandomForestClassifier(random_state=0, n_jobs=-1)"
   ]
  },
  {
   "cell_type": "code",
   "execution_count": 38,
   "metadata": {
    "id": "OuQ1W1oJHbeQ"
   },
   "outputs": [],
   "source": [
    "grid_search = GridSearchCV(estimator=temp_rf, param_grid=param_grid, scoring='roc_auc', cv=5, n_jobs=-1)"
   ]
  },
  {
   "cell_type": "code",
   "execution_count": 41,
   "metadata": {
    "colab": {
     "base_uri": "https://localhost:8080/"
    },
    "id": "-9KniorcHky-",
    "outputId": "8f56f446-53f8-4741-942d-b2580a7cb404"
   },
   "outputs": [],
   "source": [
    "#%%time\n",
    "#grid_search.fit(X_train, y_train)"
   ]
  },
  {
   "cell_type": "code",
   "execution_count": 43,
   "metadata": {
    "colab": {
     "base_uri": "https://localhost:8080/"
    },
    "id": "4Fa4lXgPH7HP",
    "outputId": "a05ef3de-ce39-4966-b86f-a153582ca0c8"
   },
   "outputs": [],
   "source": [
    "# Calculating the best RMSE score found by Grid Search \n",
    "#grid_search.best_score_"
   ]
  },
  {
   "cell_type": "code",
   "execution_count": 45,
   "metadata": {
    "colab": {
     "base_uri": "https://localhost:8080/"
    },
    "id": "anxn1jk5IcrE",
    "outputId": "9c43a566-209c-4154-942b-79ed69859ec1"
   },
   "outputs": [],
   "source": [
    "#grid_search.best_params_"
   ]
  },
  {
   "cell_type": "markdown",
   "metadata": {
    "id": "s-YgAwltIe9p"
   },
   "source": [
    "### **6.3 FINAL MODEL**"
   ]
  },
  {
   "cell_type": "code",
   "execution_count": 46,
   "metadata": {
    "id": "kHOpl1OTIeLm"
   },
   "outputs": [
    {
     "ename": "AttributeError",
     "evalue": "'GridSearchCV' object has no attribute 'best_estimator_'",
     "output_type": "error",
     "traceback": [
      "\u001b[1;31m---------------------------------------------------------------------------\u001b[0m",
      "\u001b[1;31mAttributeError\u001b[0m                            Traceback (most recent call last)",
      "\u001b[1;32m<ipython-input-46-c45ce705c7b8>\u001b[0m in \u001b[0;36m<module>\u001b[1;34m\u001b[0m\n\u001b[0;32m      1\u001b[0m \u001b[1;31m# Creating the final random forest model from the grid search's best estimator.\u001b[0m\u001b[1;33m\u001b[0m\u001b[1;33m\u001b[0m\u001b[1;33m\u001b[0m\u001b[0m\n\u001b[1;32m----> 2\u001b[1;33m \u001b[0mfinal_rf\u001b[0m \u001b[1;33m=\u001b[0m \u001b[0mgrid_search\u001b[0m\u001b[1;33m.\u001b[0m\u001b[0mbest_estimator_\u001b[0m\u001b[1;33m\u001b[0m\u001b[1;33m\u001b[0m\u001b[0m\n\u001b[0m",
      "\u001b[1;31mAttributeError\u001b[0m: 'GridSearchCV' object has no attribute 'best_estimator_'"
     ]
    }
   ],
   "source": [
    "# Creating the final random forest model from the grid search's best estimator.\n",
    "final_rf = grid_search.best_estimator_"
   ]
  },
  {
   "cell_type": "code",
   "execution_count": 24,
   "metadata": {
    "colab": {
     "base_uri": "https://localhost:8080/"
    },
    "id": "qTmKwypSIuD3",
    "outputId": "3446b6d3-6b74-40ab-d047-3adb35606bef"
   },
   "outputs": [
    {
     "data": {
      "text/plain": [
       "RandomForestClassifier(max_depth=3, n_estimators=300, n_jobs=-1, random_state=0)"
      ]
     },
     "execution_count": 24,
     "metadata": {},
     "output_type": "execute_result"
    }
   ],
   "source": [
    "# Fitting the final model with training set\n",
    "#final_rf.fit(X_train, y_train)"
   ]
  },
  {
   "cell_type": "code",
   "execution_count": 25,
   "metadata": {
    "id": "Ohka5NwEIxZf"
   },
   "outputs": [],
   "source": [
    "# Making predictions on the train set\n",
    "#y_train_pred = final_rf.predict(X_train)"
   ]
  },
  {
   "cell_type": "code",
   "execution_count": 26,
   "metadata": {
    "id": "3JeJvOjDI3N7"
   },
   "outputs": [],
   "source": [
    "# Making predictions on the test set\n",
    "#y_test_pred = final_rf.predict(X_test)"
   ]
  },
  {
   "cell_type": "markdown",
   "metadata": {
    "id": "c7U78_UtDimQ"
   },
   "source": [
    "###  **Saving the model as Pickle String**"
   ]
  },
  {
   "cell_type": "code",
   "execution_count": 47,
   "metadata": {
    "id": "oUw7dm_KDxBg"
   },
   "outputs": [],
   "source": [
    "import pickle"
   ]
  },
  {
   "cell_type": "code",
   "execution_count": 48,
   "metadata": {
    "id": "zAa0X6wWDiOv"
   },
   "outputs": [],
   "source": [
    "pickle.dump(model_rf, open(\"randomforest.pkl\",\"wb\"))"
   ]
  },
  {
   "cell_type": "markdown",
   "metadata": {
    "id": "uA88C6u4AiCG"
   },
   "source": [
    "---\n",
    "<a name = Section7></a>\n",
    "# **7. Model Evaluation**\n",
    "---"
   ]
  },
  {
   "cell_type": "markdown",
   "metadata": {
    "id": "5s_tx9tHMs_v"
   },
   "source": [
    "### **CONFUSION MATRIX**"
   ]
  },
  {
   "cell_type": "code",
   "execution_count": 50,
   "metadata": {
    "id": "sb3TuRYxMlzi"
   },
   "outputs": [],
   "source": [
    "#confusion_mat = pd.DataFrame(confusion_matrix(y_test, y_test))"
   ]
  },
  {
   "cell_type": "code",
   "execution_count": 52,
   "metadata": {
    "colab": {
     "base_uri": "https://localhost:8080/",
     "height": 107
    },
    "id": "sApQ8VPhM1R3",
    "outputId": "2f3f2ed0-928e-49f1-af87-f30256455361"
   },
   "outputs": [],
   "source": [
    "#confusion_mat.index = ['Actual Negative', 'Actual Positive']\n",
    "#confusion_mat.columns = ['Predicted Negative', 'Predicted Positive']\n",
    "#confusion_mat"
   ]
  },
  {
   "cell_type": "markdown",
   "metadata": {
    "id": "TNLmhYllMcIP"
   },
   "source": [
    "### **ACCURACY SCORE**"
   ]
  },
  {
   "cell_type": "code",
   "execution_count": 31,
   "metadata": {
    "colab": {
     "base_uri": "https://localhost:8080/"
    },
    "id": "J74LOGXOMM8K",
    "outputId": "5c0af48b-1980-4ea0-ba3a-4a41556410ed"
   },
   "outputs": [
    {
     "name": "stdout",
     "output_type": "stream",
     "text": [
      "Accuracy score for train data is: 0.7881035026822342\n"
     ]
    }
   ],
   "source": [
    "# Accuracy score on the training set.\n",
    "print('Accuracy score for train data is:', accuracy_score(y_train, y_train_pred))"
   ]
  },
  {
   "cell_type": "code",
   "execution_count": 32,
   "metadata": {
    "colab": {
     "base_uri": "https://localhost:8080/"
    },
    "id": "_Y2yxBScMihW",
    "outputId": "137bb4d9-b791-4761-a78b-8f976b578a43"
   },
   "outputs": [
    {
     "name": "stdout",
     "output_type": "stream",
     "text": [
      "Accuracy score for test data is: 0.7886524822695036\n"
     ]
    }
   ],
   "source": [
    "# Accuracy score on the test set.\n",
    "print('Accuracy score for test data is:', accuracy_score(y_test, y_test_pred))"
   ]
  },
  {
   "cell_type": "markdown",
   "metadata": {
    "id": "k20ItfKN_XlS"
   },
   "source": [
    "### **Precision Score**"
   ]
  },
  {
   "cell_type": "code",
   "execution_count": 33,
   "metadata": {
    "colab": {
     "base_uri": "https://localhost:8080/"
    },
    "id": "at1Wo3qvtTiz",
    "outputId": "59e7978f-ca2b-41fb-891b-9912750b9f5e"
   },
   "outputs": [
    {
     "name": "stdout",
     "output_type": "stream",
     "text": [
      "Accuracy score for train data is: 0.7169117647058824\n"
     ]
    }
   ],
   "source": [
    "# Precision score on the training set.\n",
    "print('Accuracy score for train data is:', precision_score(y_train, y_train_pred))"
   ]
  },
  {
   "cell_type": "code",
   "execution_count": 34,
   "metadata": {
    "colab": {
     "base_uri": "https://localhost:8080/"
    },
    "id": "m9xBMiE4_iMk",
    "outputId": "4db418bd-17d7-4171-f887-2dbd8ca3c10f"
   },
   "outputs": [
    {
     "name": "stdout",
     "output_type": "stream",
     "text": [
      "Accuracy score for test data is: 0.6455696202531646\n"
     ]
    }
   ],
   "source": [
    "# Precision score on the test set.\n",
    "print('Accuracy score for test data is:', precision_score(y_test, y_test_pred))"
   ]
  },
  {
   "cell_type": "markdown",
   "metadata": {
    "id": "T-8eq0-M_nYA"
   },
   "source": [
    "### **Recall Score**"
   ]
  },
  {
   "cell_type": "code",
   "execution_count": 35,
   "metadata": {
    "colab": {
     "base_uri": "https://localhost:8080/"
    },
    "id": "CykQ9a8d_mPY",
    "outputId": "21e3adbb-a921-415d-c77b-d2ad00b1b105"
   },
   "outputs": [
    {
     "name": "stdout",
     "output_type": "stream",
     "text": [
      "Accuracy score for train data is: 0.3447259870359458\n"
     ]
    }
   ],
   "source": [
    "# recall score on the training set.\n",
    "print('Accuracy score for train data is:', recall_score(y_train, y_train_pred))"
   ]
  },
  {
   "cell_type": "code",
   "execution_count": 36,
   "metadata": {
    "colab": {
     "base_uri": "https://localhost:8080/"
    },
    "id": "tUA87vjc_tdD",
    "outputId": "14c51a20-2040-499d-b979-2dce362c4416"
   },
   "outputs": [
    {
     "name": "stdout",
     "output_type": "stream",
     "text": [
      "Accuracy score for test data is: 0.29651162790697677\n"
     ]
    }
   ],
   "source": [
    "# recall score on the test set.\n",
    "print('Accuracy score for test data is:', recall_score(y_test, y_test_pred))"
   ]
  }
 ],
 "metadata": {
  "colab": {
   "collapsed_sections": [],
   "name": "Model Building.ipynb",
   "provenance": []
  },
  "kernelspec": {
   "display_name": "Python 3",
   "language": "python",
   "name": "python3"
  },
  "language_info": {
   "codemirror_mode": {
    "name": "ipython",
    "version": 3
   },
   "file_extension": ".py",
   "mimetype": "text/x-python",
   "name": "python",
   "nbconvert_exporter": "python",
   "pygments_lexer": "ipython3",
   "version": "3.8.5"
  }
 },
 "nbformat": 4,
 "nbformat_minor": 1
}
